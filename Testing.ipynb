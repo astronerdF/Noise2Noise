{
 "cells": [
  {
   "cell_type": "code",
   "execution_count": 19,
   "metadata": {},
   "outputs": [],
   "source": [
    "import os\n",
    "import numpy as np\n",
    "import torch\n",
    "from noise2noise.datasets import load_dataset\n",
    "from noise2noise.noise2noise import Noise2Noise\n",
    "from noise2noise.utils import create_montage\n",
    "from argparse import Namespace\n",
    "from PIL import Image\n",
    "import torchvision.transforms as transforms\n",
    "import torchvision.transforms.functional as tvF\n",
    "\n",
    "import matplotlib.pyplot as plt\n",
    "\n",
    "%matplotlib inline\n",
    "\n"
   ]
  },
  {
   "cell_type": "code",
   "execution_count": 6,
   "metadata": {},
   "outputs": [],
   "source": [
    "class Args:\n",
    "    test_image = 'noise2noise/data/test/volumeWithArtifacts_YZ.png'\n",
    "    clean_image = 'noise2noise/data/GT/volumeWithBH_YZ.png'  # Optional: Path to ground truth clean image\n",
    "    load_ckpt = 'ckpts/gaussian/n2n-gaussian.pt'\n",
    "    show_output = 2\n",
    "    cuda = torch.cuda.is_available()\n",
    "    noise_type = 'gaussian'\n",
    "    noise_param = 50\n",
    "    seed = None\n",
    "    crop_size = 256\n",
    "    no_crop = True\n",
    "    add_noise = False\n",
    "\n",
    "params = Args()\n"
   ]
  },
  {
   "cell_type": "code",
   "execution_count": 7,
   "metadata": {},
   "outputs": [],
   "source": [
    "# Function to load and preprocess the test image\n",
    "def load_test_image(image_path, crop_size, no_crop):\n",
    "    \"\"\"Loads and preprocesses the test image.\"\"\"\n",
    "    img = Image.open(image_path).convert('RGB')\n",
    "\n",
    "    if not no_crop and crop_size > 0:\n",
    "        # Center crop if no_crop is not set\n",
    "        transform = transforms.Compose([\n",
    "            transforms.CenterCrop(crop_size),\n",
    "            transforms.ToTensor()\n",
    "        ])\n",
    "    else:\n",
    "        # Just convert to tensor\n",
    "        transform = transforms.Compose([\n",
    "            transforms.ToTensor()\n",
    "        ])\n",
    "\n",
    "    img_tensor = transform(img).unsqueeze(0)  # Add batch dimension\n",
    "    return img_tensor"
   ]
  },
  {
   "cell_type": "code",
   "execution_count": 11,
   "metadata": {},
   "outputs": [
    {
     "name": "stdout",
     "output_type": "stream",
     "text": [
      "Noise2Noise: Learning Image Restoration without Clean Data (Lethinen et al., 2018)\n",
      "Loading checkpoint from: ckpts/gaussian/n2n-gaussian.pt\n"
     ]
    }
   ],
   "source": [
    "# Initialize model and load checkpoint\n",
    "n2n = Noise2Noise(params, trainable=False)\n",
    "n2n.load_model(params.load_ckpt)\n",
    "\n",
    "# Load the test image\n",
    "test_image = load_test_image(params.test_image, params.crop_size, params.no_crop)\n",
    "\n",
    "# Load the clean (ground truth) image if provided\n",
    "clean_image = None\n",
    "if params.clean_image:\n",
    "    clean_image = load_test_image(params.clean_image, params.crop_size, params.no_crop)\n"
   ]
  },
  {
   "cell_type": "code",
   "execution_count": 12,
   "metadata": {},
   "outputs": [],
   "source": [
    "# Move the test image to GPU if available\n",
    "if params.cuda and torch.cuda.is_available():\n",
    "    test_image = test_image.cuda()\n",
    "    if clean_image is not None:\n",
    "        clean_image = clean_image.cuda()"
   ]
  },
  {
   "cell_type": "code",
   "execution_count": 13,
   "metadata": {},
   "outputs": [],
   "source": [
    "# Denoise the image\n",
    "n2n.model.eval()\n",
    "with torch.no_grad():\n",
    "    denoised_image = n2n.model(test_image).cpu().squeeze()"
   ]
  },
  {
   "cell_type": "code",
   "execution_count": 16,
   "metadata": {},
   "outputs": [],
   "source": [
    "def psnr(input, target):\n",
    "    \"\"\"Computes peak signal-to-noise ratio.\"\"\"\n",
    "    input_np = input.detach().cpu().numpy()\n",
    "    target_np = target.detach().cpu().numpy()\n",
    "    mse = np.mean((input_np - target_np) ** 2)\n",
    "    if mse == 0:\n",
    "        return 100\n",
    "    PIXEL_MAX = 255.0\n",
    "    return 20 * np.log10(PIXEL_MAX / np.sqrt(mse))\n",
    "\n",
    "def create_montage(img_name, noise_type, save_path, source_img, denoised_img, clean_img=None, show=0):\n",
    "    \"\"\"Creates and displays montage for easy comparison.\"\"\"\n",
    "    if clean_img is not None:\n",
    "        fig, ax = plt.subplots(2, 3, figsize=(15, 10))\n",
    "    else:\n",
    "        fig, ax = plt.subplots(2, 2, figsize=(10, 10))\n",
    "\n",
    "    # Build image montage\n",
    "    titles = ['Input', 'Denoised']\n",
    "    images = [source_img, denoised_img]\n",
    "    psnr_vals = []\n",
    "\n",
    "    if clean_img is not None:\n",
    "        titles.append('Ground Truth')\n",
    "        images.append(clean_img)\n",
    "        psnr_vals.append(psnr(clean_img, denoised_img))\n",
    "        titles[1] += f': {psnr_vals[-1]:.2f} dB'\n",
    "\n",
    "    plot_data_list = []\n",
    "    min_y = []\n",
    "    max_y = []\n",
    "\n",
    "    for j, (title, img) in enumerate(zip(titles, images)):\n",
    "        ax[0][j].imshow(img)\n",
    "        ax[0][j].axhline(y=img.size[1] // 2, color='red', lw=2, ls='-')\n",
    "        ax[0][j].set_title(title)\n",
    "        ax[0][j].axis('off')\n",
    "\n",
    "        img_array = np.array(img)\n",
    "        plot_data = img_array[img.size[1] // 2]\n",
    "        plot_data_list.append(plot_data)\n",
    "        min_y.append(plot_data.min())\n",
    "        max_y.append(plot_data.max())\n",
    "\n",
    "    global_min_y = min(min_y)\n",
    "    global_max_y = max(max_y)\n",
    "\n",
    "    for j in range(len(plot_data_list)):\n",
    "        ax[1][j].plot(plot_data_list[j], lw=1, ls='-', color='red')\n",
    "        ax[1][j].set_ylim(global_min_y, global_max_y)\n",
    "        ax[1][j].axis('on')\n",
    "\n",
    "    if clean_img is not None:\n",
    "        ax[0][2].imshow(clean_img)\n",
    "        ax[0][2].axhline(y=clean_img.size[1] // 2, color='red', lw=2, ls='-')\n",
    "        ax[0][2].set_title('Ground Truth')\n",
    "        ax[0][2].axis('off')\n",
    "\n",
    "        clean_array = np.array(clean_img)\n",
    "        clean_data = clean_array[clean_img.size[1] // 2]\n",
    "        ax[1][2].plot(clean_data, lw=1, ls='-', color='red')\n",
    "        ax[1][2].set_ylim(global_min_y, global_max_y)\n",
    "        ax[1][2].axis('on')\n",
    "\n",
    "    plt.tight_layout()\n",
    "\n",
    "    fname = os.path.splitext(img_name)[0]\n",
    "    source_img.save(os.path.join(save_path, f'{fname}-{noise_type}-noisy.png'))\n",
    "    denoised_img.save(os.path.join(save_path, f'{fname}-{noise_type}-denoised.png'))\n",
    "    if clean_img is not None:\n",
    "        clean_img.save(os.path.join(save_path, f'{fname}-{noise_type}-clean.png'))\n",
    "    fig.savefig(os.path.join(save_path, f'{fname}-{noise_type}-montage.png'), bbox_inches='tight')\n",
    "    plt.show()"
   ]
  },
  {
   "cell_type": "code",
   "execution_count": 20,
   "metadata": {},
   "outputs": [
    {
     "data": {
      "image/png": "[encoded data removed]",
      "text/plain": [
       "<Figure size 900x700 with 6 Axes>"
      ]
     },
     "metadata": {},
     "output_type": "display_data"
    }
   ],
   "source": [
    "# Create and save the montage\n",
    "create_montage(\n",
    "    img_name=os.path.basename(params.test_image),\n",
    "    noise_type=params.noise_type,\n",
    "    save_path=os.path.dirname(params.test_image),\n",
    "    source_t=test_image.squeeze(),\n",
    "    denoised_t=denoised_image,\n",
    "    clean_t=clean_image.squeeze() if clean_image is not None else None,\n",
    "    show=params.show_output\n",
    ")"
   ]
  },
  {
   "cell_type": "code",
   "execution_count": 24,
   "metadata": {},
   "outputs": [
    {
     "data": {
      "text/plain": [
       "tensor(1.0369)"
      ]
     },
     "execution_count": 24,
     "metadata": {},
     "output_type": "execute_result"
    }
   ],
   "source": []
  },
  {
   "cell_type": "code",
   "execution_count": null,
   "metadata": {},
   "outputs": [],
   "source": []
  }
 ],
 "metadata": {
  "kernelspec": {
   "display_name": "n2n_joey",
   "language": "python",
   "name": "python3"
  },
  "language_info": {
   "codemirror_mode": {
    "name": "ipython",
    "version": 3
   },
   "file_extension": ".py",
   "mimetype": "text/x-python",
   "name": "python",
   "nbconvert_exporter": "python",
   "pygments_lexer": "ipython3",
   "version": "3.8.10"
  }
 },
 "nbformat": 4,
 "nbformat_minor": 2
}
